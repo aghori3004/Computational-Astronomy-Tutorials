{
 "cells": [
  {
   "cell_type": "markdown",
   "metadata": {},
   "source": [
    "<h2><b>L1.1 Introduction To Python - Getting Started, Indentation, Comments, Variables, Data Types</b></h2> \n",
    "<h3><i>Author - Divyansh Gangwar</i></h3>\n",
    "\n",
    "Let us now get into the real stuff, shall we!\n",
    "\n",
    "By now, you must have already heard about all the hype around Python and must be very eager to get your hands dirty. \n",
    "\n",
    "Well there is the usual stuff that Python is currently the most popular programming language and is used for a wide range of applications, be it Bussiness Data Analysis, Scientific Data Analysis, DataBase Management Systems, Web Dev, and obviously the so talked about ML and then AI applications. \n",
    "\n",
    "It is beginner friendly and is known to have the easiest syntaxes. \n"
   ]
  },
  {
   "cell_type": "markdown",
   "metadata": {},
   "source": [
    "Let us execute our very first code and print out the infamous <i>Hello World</i>"
   ]
  },
  {
   "cell_type": "code",
   "execution_count": null,
   "metadata": {},
   "outputs": [],
   "source": [
    "print(\"Hello World\")"
   ]
  },
  {
   "cell_type": "markdown",
   "metadata": {},
   "source": [
    "If you got your output, then hurray, your installation was perfect if not, then there was some issue somewhere during the setup."
   ]
  },
  {
   "cell_type": "markdown",
   "metadata": {},
   "source": [
    "<h3><b>Python Indentation</b></h3>\n",
    "Unlike other languages, indentation is very important while writing a code in python. \n",
    "\n",
    "Pyhton uses indentation to distinguish between blocks of code."
   ]
  },
  {
   "cell_type": "markdown",
   "metadata": {},
   "source": [
    "For Example,\n",
    "the following code will give you an error:"
   ]
  },
  {
   "cell_type": "code",
   "execution_count": null,
   "metadata": {},
   "outputs": [],
   "source": [
    "if True:\n",
    "print(\"Inside the 'if' block :)\")"
   ]
  },
  {
   "cell_type": "markdown",
   "metadata": {},
   "source": [
    "Therefore the correct code would be:"
   ]
  },
  {
   "cell_type": "code",
   "execution_count": null,
   "metadata": {},
   "outputs": [],
   "source": [
    "if True:\n",
    "    print(\"Inside the 'if' block :)\")"
   ]
  },
  {
   "cell_type": "markdown",
   "metadata": {},
   "source": [
    "You have to use the same number of spaces in the same block of code, otherwise Python will give you an error:"
   ]
  },
  {
   "cell_type": "code",
   "execution_count": null,
   "metadata": {},
   "outputs": [],
   "source": [
    "if 5 > 2:\n",
    " print(\"Five is greater than two!\")\n",
    "        print(\"Five is greater than two!\")"
   ]
  },
  {
   "cell_type": "markdown",
   "metadata": {},
   "source": [
    "<h3><b> Comments </b></h3>\n",
    "You can put up comments for in-code documentation. <br>Any line of text that follows '#' will be rendered as a comment. "
   ]
  },
  {
   "cell_type": "code",
   "execution_count": null,
   "metadata": {},
   "outputs": [],
   "source": [
    "#This is a comment\n",
    "print(\"Comments dekho!\") #Meet pe aajaya karo please"
   ]
  },
  {
   "cell_type": "markdown",
   "metadata": {},
   "source": [
    "Comments can be used to explain Python code:"
   ]
  },
  {
   "cell_type": "code",
   "execution_count": null,
   "metadata": {},
   "outputs": [],
   "source": [
    "reasonable = True #Variable assignment\n",
    "if reasonable: #Condition \n",
    "    print(\"Blah Blah\") #Print statement"
   ]
  },
  {
   "cell_type": "markdown",
   "metadata": {},
   "source": [
    "Comments can be used to prevent execution when testing code:"
   ]
  },
  {
   "cell_type": "code",
   "execution_count": null,
   "metadata": {},
   "outputs": [],
   "source": [
    "print(\"Pyaas lagi!!!\")\n",
    "#print(\"Daaru Chahiye\")\n",
    "print(\"Paani hi dedo\")"
   ]
  },
  {
   "cell_type": "markdown",
   "metadata": {},
   "source": [
    "<h3><b> Python Variables</b> </h3>\n",
    "\n",
    "Variables are containers for storing data values"
   ]
  },
  {
   "cell_type": "markdown",
   "metadata": {},
   "source": [
    "<h3>Creating Variables</h3>\n",
    "Python has no command for declaring a variable.\n",
    "\n",
    "A variable is created the moment you first assign a value to it."
   ]
  },
  {
   "cell_type": "code",
   "execution_count": null,
   "metadata": {},
   "outputs": [],
   "source": [
    "num = 5\n",
    "adastra = \"Awesome!\"\n",
    "\n",
    "print(num)\n",
    "print(adastra)"
   ]
  },
  {
   "cell_type": "markdown",
   "metadata": {},
   "source": [
    "In python, a variable is not limited to a data-type. Variable can be assigned values of different data types:"
   ]
  },
  {
   "cell_type": "code",
   "execution_count": null,
   "metadata": {},
   "outputs": [],
   "source": [
    "var = 5\n",
    "print(type(var))\n",
    "var = \"name\"\n",
    "print(type(var))"
   ]
  },
  {
   "cell_type": "markdown",
   "metadata": {},
   "source": [
    "Note: Get the data-type of a variable using the <a href = \"https://www.w3schools.com/python/ref_func_type.asp\">type()</a> function."
   ]
  },
  {
   "cell_type": "markdown",
   "metadata": {},
   "source": [
    "<h3>Naming a Variable</h3>\n",
    "Naming a variable properly is advised to increase the readability of the code. The following are to keep in mind while naming a variable:\n",
    "<ul><li>A variable name must start with a letter or the underscore character</li>\n",
    "<li>A variable name cannot start with a number</li>\n",
    "<li>A variable name can only contain alpha-numeric characters and underscores (A-z, 0-9, and _ )</li>\n",
    "<li>Variable names are case-sensitive (age, Age and AGE are three different variables)</li>\n",
    "<li>A variable name cannot be any of the <a href=\"https://www.w3schools.com/python/python_ref_keywords.asp\">Python keywords.</a></li>\n",
    "\n"
   ]
  },
  {
   "cell_type": "markdown",
   "metadata": {},
   "source": [
    "Some common variable naming techniques:"
   ]
  },
  {
   "cell_type": "code",
   "execution_count": null,
   "metadata": {},
   "outputs": [],
   "source": [
    "myVarName = \"Hello\" #CamelCase\n",
    "MyVarName = \"Hello\" #PascalCase\n",
    "my_var_name = \"Hello\" #SnakeCase"
   ]
  },
  {
   "cell_type": "markdown",
   "metadata": {},
   "source": [
    "<h3>Assigning Multiple Variable</h3>\n",
    "Multiple variables can be assigned in a single line:"
   ]
  },
  {
   "cell_type": "code",
   "execution_count": null,
   "metadata": {},
   "outputs": [],
   "source": [
    "a,b,c = 1,2,3 #Assigning different values to different variables\n",
    "x=y=z=0 #Assigning same value to multiple variables\n",
    "p,q,r = (4,5,6) #Unpacking a collection such as a tuple or list"
   ]
  },
  {
   "cell_type": "markdown",
   "metadata": {},
   "source": [
    "<h3>Global Variable</h3>\n",
    "A variable which is initialized (initial value assignment) outside any function and can be used inside any function.<br>\n",
    "For Example:"
   ]
  },
  {
   "cell_type": "code",
   "execution_count": null,
   "metadata": {},
   "outputs": [],
   "source": [
    "var1 = 5\n",
    "def add():\n",
    "    var2 = 5\n",
    "    sum = var1+var2\n",
    "    print(sum)\n",
    "add()"
   ]
  },
  {
   "cell_type": "markdown",
   "metadata": {},
   "source": [
    "If a variable with same name is created inside any function, it can only be used inside the same function. Outside of that function the previous variable is used. <br>\n",
    "For Example:"
   ]
  },
  {
   "cell_type": "code",
   "execution_count": null,
   "metadata": {},
   "outputs": [],
   "source": [
    "var1 = 5\n",
    "def add():\n",
    "    var1 = 6\n",
    "    var2 = 5\n",
    "    sum = var1+var2\n",
    "    print(sum)\n",
    "add()\n",
    "print(var1)"
   ]
  },
  {
   "cell_type": "markdown",
   "metadata": {},
   "source": [
    "Use the <a href='https://www.geeksforgeeks.org/global-keyword-in-python/'>global</a> keyword to make a variable inside the function as global variable. "
   ]
  },
  {
   "cell_type": "code",
   "execution_count": 25,
   "metadata": {},
   "outputs": [
    {
     "name": "stdout",
     "output_type": "stream",
     "text": [
      "11\n",
      "6\n"
     ]
    }
   ],
   "source": [
    "var1 = 5\n",
    "def add():\n",
    "    global var1 \n",
    "    var1 = 6\n",
    "    var2 = 5\n",
    "    sum = var1+var2\n",
    "    print(sum)\n",
    "add()\n",
    "print(var1)"
   ]
  },
  {
   "cell_type": "markdown",
   "metadata": {},
   "source": [
    "<h3><b>Data Types in Python</b></h3>\n",
    "<h3> Built in DataTypes</h3>\n",
    "Python has following built-in Data Types:\n"
   ]
  },
  {
   "cell_type": "markdown",
   "metadata": {},
   "source": [
    "<ul>\n",
    "<li>Text Type:\t<a href = 'https://www.w3schools.com/python/python_strings.asp'>str</a></li>\n",
    "<li>Numeric Types:\t<a href = \"https://www.w3schools.com/python/python_numbers.asp\">int</a>, <a href = \"https://www.w3schools.com/python/python_numbers.asp\">float</a>, <a href = \"https://www.w3schools.com/python/python_numbers.asp\">complex</a></li>\n",
    "<li>Sequence Types:\t<a href = \"https://www.w3schools.com/python/python_lists.asp#:~:text=Lists%20are%20used%20to%20store,with%20different%20qualities%20and%20usage.\">list</a>, <a href = \"https://www.w3schools.com/python/python_tuples.asp\">tuple</a></li>\n",
    "<li>Mapping Type:\t<a href = \"https://www.w3schools.com/python/python_dictionaries.asp\">dict</a></li>\n",
    "<li>Set Types:\t<a href = \"https://www.w3schools.com/python/python_sets.asp\">set</a></li>\n",
    "<li>Boolean Type:\t<a href = \"https://www.w3schools.com/python/python_booleans.asp\">bool</a></li>\n",
    "<li>Binary Types:\tbytes, bytearray, memoryview</li>\n",
    "<li>None Type:\t<a href = \"https://www.w3schools.com/python/ref_keyword_none.asp\">NoneType</a></li>\n",
    "</ul>"
   ]
  },
  {
   "cell_type": "markdown",
   "metadata": {},
   "source": [
    "You can check the datatype of a variable using the <a href = \"https://www.w3schools.com/python/ref_func_type.asp\">type()</a> function:"
   ]
  },
  {
   "cell_type": "code",
   "execution_count": 27,
   "metadata": {},
   "outputs": [
    {
     "name": "stdout",
     "output_type": "stream",
     "text": [
      "<class 'str'> <class 'int'> <class 'bool'>\n"
     ]
    }
   ],
   "source": [
    "num1 = \"5\"\n",
    "num2 = 2\n",
    "num3 = False\n",
    "print(type(num1), type(num2), type(num3))\n"
   ]
  },
  {
   "cell_type": "markdown",
   "metadata": {},
   "source": [
    "In the next lecture we will see each DataType in detail\n",
    "\n",
    "#UparDekhteRaho"
   ]
  }
 ],
 "metadata": {
  "kernelspec": {
   "display_name": "Python 3",
   "language": "python",
   "name": "python3"
  },
  "language_info": {
   "codemirror_mode": {
    "name": "ipython",
    "version": 3
   },
   "file_extension": ".py",
   "mimetype": "text/x-python",
   "name": "python",
   "nbconvert_exporter": "python",
   "pygments_lexer": "ipython3",
   "version": "3.10.8"
  }
 },
 "nbformat": 4,
 "nbformat_minor": 2
}
