{
 "cells": [
  {
   "cell_type": "markdown",
   "metadata": {},
   "source": [
    "<h2><b>L1.2 Data Types in Python</b></h2>\n",
    "<h3><i>Author - Divyansh Gangwar</i></h3>\n",
    "Now we will look into each datatype in detail. It is not necessary for you to learn each and every datatype by heart. Yo can always Google whatever you feel like. Once a wise man said <br>\n",
    "\n",
    "<i>\"If I can make a code in 30 minutes today that is because I spent 10 years learning how to serach on Google\"</i>\n",
    "\n",
    "And yes, I Googled that quote too :)"
   ]
  },
  {
   "cell_type": "markdown",
   "metadata": {},
   "source": [
    "<h3><b>Numeric Data types</b></h3>\n",
    "There are 3 numeric types in Python:\n",
    "<ul><li>int</b></li>\n",
    "<li>float</li>\n",
    "<li>complex</li>"
   ]
  },
  {
   "cell_type": "code",
   "execution_count": 1,
   "metadata": {},
   "outputs": [],
   "source": [
    "i = 1 #int\n",
    "f = 3.8 #float\n",
    "c = 2 + 3j #complex"
   ]
  },
  {
   "cell_type": "markdown",
   "metadata": {},
   "source": [
    "<h3>Int</h3>\n",
    "Int, or Integer, is a whole number, positive and negative with unlimited length"
   ]
  },
  {
   "cell_type": "markdown",
   "metadata": {},
   "source": [
    "<h3>Float</h3>\n",
    "Float, or Floating Point number, is a positive or negative number with one or more decimal points.\n",
    "\n",
    "Note: Float can also be declared using 'e' to indicate powers of 10 "
   ]
  },
  {
   "cell_type": "code",
   "execution_count": 2,
   "metadata": {},
   "outputs": [
    {
     "name": "stdout",
     "output_type": "stream",
     "text": [
      "0.01\n"
     ]
    }
   ],
   "source": [
    "f = 10e-3\n",
    "print(f)"
   ]
  },
  {
   "cell_type": "markdown",
   "metadata": {},
   "source": [
    "<h3>Complex</h3>\n",
    "COmplex Numbers are written with 'j' as imaginary part."
   ]
  },
  {
   "cell_type": "markdown",
   "metadata": {},
   "source": [
    "<h3>Type Conversion</h3>\n",
    "You can convert variable of one datatype to another using the <a href = \"https://www.w3schools.com/python/ref_func_int.asp\">int()</a>, <a href = \"https://www.w3schools.com/python/ref_func_float.asp\">float()</a>, and <a href = \"https://www.w3schools.com/python/ref_func_complex.asp\">complex()</a> functions."
   ]
  },
  {
   "cell_type": "code",
   "execution_count": 4,
   "metadata": {},
   "outputs": [
    {
     "name": "stdout",
     "output_type": "stream",
     "text": [
      "5.0 <class 'float'>\n"
     ]
    }
   ],
   "source": [
    "i = 5\n",
    "f = float(i) #int to float conversion\n",
    "print(f, type(f))"
   ]
  },
  {
   "cell_type": "markdown",
   "metadata": {},
   "source": [
    "What happens to the decimal part when a float is converted to an int? Run the following to checkout:"
   ]
  },
  {
   "cell_type": "code",
   "execution_count": 5,
   "metadata": {},
   "outputs": [
    {
     "name": "stdout",
     "output_type": "stream",
     "text": [
      "5 <class 'int'>\n"
     ]
    }
   ],
   "source": [
    "f = 5.6\n",
    "i = int(f)\n",
    "print(i, type(i))"
   ]
  },
  {
   "cell_type": "markdown",
   "metadata": {},
   "source": [
    "<h3><b>Strings</b></h3>"
   ]
  },
  {
   "cell_type": "markdown",
   "metadata": {},
   "source": []
  }
 ],
 "metadata": {
  "kernelspec": {
   "display_name": "Python 3",
   "language": "python",
   "name": "python3"
  },
  "language_info": {
   "codemirror_mode": {
    "name": "ipython",
    "version": 3
   },
   "file_extension": ".py",
   "mimetype": "text/x-python",
   "name": "python",
   "nbconvert_exporter": "python",
   "pygments_lexer": "ipython3",
   "version": "3.10.8"
  }
 },
 "nbformat": 4,
 "nbformat_minor": 2
}
