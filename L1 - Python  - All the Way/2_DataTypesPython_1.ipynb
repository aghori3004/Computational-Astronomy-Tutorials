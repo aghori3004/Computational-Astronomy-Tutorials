{
 "cells": [
  {
   "cell_type": "markdown",
   "metadata": {},
   "source": [
    "<h2><b>L1.2 Basics of Python - Data Types (Numeric, String, Boolean) and Operators in Python</b></h2>\n",
    "<h3><i>Author - Divyansh Gangwar</i></h3>\n",
    "Now we will look into each datatype in detail. It is not necessary for you to learn each and every datatype by heart. Yo can always Google whatever you feel like. Once a wise man said <br>\n",
    "\n",
    "<i>\"If I can make a code in 30 minutes today that is because I spent 10 years learning how to serach on Google\"</i>\n",
    "\n",
    "And yes, I Googled that quote too :)"
   ]
  },
  {
   "cell_type": "markdown",
   "metadata": {},
   "source": [
    "<h3><b>Numeric Data types</b></h3>\n",
    "There are 3 numeric types in Python:\n",
    "<ul><li>int</b></li>\n",
    "<li>float</li>\n",
    "<li>complex</li>"
   ]
  },
  {
   "cell_type": "code",
   "execution_count": 2,
   "metadata": {},
   "outputs": [],
   "source": [
    "i = 1 #int\n",
    "f = 3.8 #float\n",
    "c = 2 + 3j #complex"
   ]
  },
  {
   "cell_type": "markdown",
   "metadata": {},
   "source": [
    "<h3>Int</h3>\n",
    "Int, or Integer, is a whole number, positive and negative with unlimited length"
   ]
  },
  {
   "cell_type": "markdown",
   "metadata": {},
   "source": [
    "<h3>Float</h3>\n",
    "Float, or Floating Point number, is a positive or negative number with one or more decimal points.\n",
    "\n",
    "Note: Float can also be declared using 'e' to indicate powers of 10 "
   ]
  },
  {
   "cell_type": "code",
   "execution_count": 3,
   "metadata": {},
   "outputs": [
    {
     "name": "stdout",
     "output_type": "stream",
     "text": [
      "0.01\n"
     ]
    }
   ],
   "source": [
    "f = 10e-3\n",
    "print(f)"
   ]
  },
  {
   "cell_type": "markdown",
   "metadata": {},
   "source": [
    "<h3>Complex</h3>\n",
    "COmplex Numbers are written with 'j' as imaginary part."
   ]
  },
  {
   "cell_type": "markdown",
   "metadata": {},
   "source": [
    "<h3>Type Conversion</h3>\n",
    "You can convert variable of one datatype to another using the <a href = \"https://www.w3schools.com/python/ref_func_int.asp\">int()</a>, <a href = \"https://www.w3schools.com/python/ref_func_float.asp\">float()</a>, and <a href = \"https://www.w3schools.com/python/ref_func_complex.asp\">complex()</a> functions."
   ]
  },
  {
   "cell_type": "code",
   "execution_count": 4,
   "metadata": {},
   "outputs": [
    {
     "name": "stdout",
     "output_type": "stream",
     "text": [
      "5.0 <class 'float'>\n"
     ]
    }
   ],
   "source": [
    "i = 5\n",
    "f = float(i) #int to float conversion\n",
    "print(f, type(f))"
   ]
  },
  {
   "cell_type": "markdown",
   "metadata": {},
   "source": [
    "What happens to the decimal part when a float is converted to an int? Run the following to checkout:"
   ]
  },
  {
   "cell_type": "code",
   "execution_count": 5,
   "metadata": {},
   "outputs": [
    {
     "name": "stdout",
     "output_type": "stream",
     "text": [
      "5 <class 'int'>\n"
     ]
    }
   ],
   "source": [
    "f = 5.6\n",
    "i = int(f)\n",
    "print(i, type(i))"
   ]
  },
  {
   "cell_type": "markdown",
   "metadata": {},
   "source": [
    "<h3><b>Strings</b></h3>\n",
    "Strings are the only text type data type in Python. Here, <i>\"some_string\"</i> is same as <i>'some_string'</i>. "
   ]
  },
  {
   "cell_type": "markdown",
   "metadata": {},
   "source": [
    "Just like any other programming language strings in Python are an <i><a href = \"https://www.w3schools.com/python/python_arrays.asp\">array</a></i> of single characters. The usual functions of arrays will work on any string. Just like an array, we can use <i>indexing</i>, <i>slicing</i>, <i>looping</i> etc. in a String.\n",
    "\n",
    "Note: We will look at each of these in detail in the array/lists section. "
   ]
  },
  {
   "cell_type": "markdown",
   "metadata": {},
   "source": [
    "<h3>Some String Specific Functions :</h3>"
   ]
  },
  {
   "cell_type": "code",
   "execution_count": 6,
   "metadata": {},
   "outputs": [
    {
     "name": "stdout",
     "output_type": "stream",
     "text": [
      "AD ASTRA IS THE BEST :) \n",
      "ad astra is the best :) \n",
      "Ad Astra is the best :)\n",
      "Bd Bstra is the best :) \n",
      "Ad Astra is the best :)\n",
      "Ad Astra is the best :) Ad Astra is the best :) \n"
     ]
    }
   ],
   "source": [
    "my_str = \"Ad Astra is the best :) \"\n",
    "\n",
    "print(my_str.upper()) #upper() returns the string in uppercase\n",
    "print(my_str.lower()) #lower() returns the string in lowercase\n",
    "print(my_str.strip()) #strip() returns the string removed from white spaces from the beginning or the end\n",
    "print(my_str.replace(\"A\",\"B\")) #replace replaces a string with another\n",
    "print(my_str.strip(\" \")) #returns a list of strings separated by the given separator(here - whitespace)\n",
    "print(my_str + my_str) #\"+\" is known as the concatenation operator, used to concatenate two strings"
   ]
  },
  {
   "cell_type": "markdown",
   "metadata": {},
   "source": [
    "You can check out some more String methods <a href = \"https://www.w3schools.com/python/python_strings_methods.asp\">here</a>. \n",
    "\n",
    "Again, you don't need to memorize any of the methods mentioned here, you can always Google them :)"
   ]
  },
  {
   "cell_type": "markdown",
   "metadata": {},
   "source": [
    "<h3> The format() Method</h3>\n",
    "The format() method takes the passed arguments, formats them, and places them in the string where the placeholders {} are:"
   ]
  },
  {
   "cell_type": "code",
   "execution_count": 7,
   "metadata": {},
   "outputs": [
    {
     "name": "stdout",
     "output_type": "stream",
     "text": [
      "Hi I am debu and I have a capacity of 7 drinks. Believe me I have counted :)\n"
     ]
    }
   ],
   "source": [
    "num = 7\n",
    "str = 'debu'\n",
    "\n",
    "print(\"Hi I am {} and I have a capacity of {} drinks. Believe me I have counted :)\".format(str,num))"
   ]
  },
  {
   "cell_type": "markdown",
   "metadata": {},
   "source": [
    "<h3>Escape Character</h3>\n",
    "To insert characters that are illegal in a string, use an escape character.\n",
    "\n",
    "An escape character is a backslash \\ followed by the character you want to insert."
   ]
  },
  {
   "cell_type": "code",
   "execution_count": 8,
   "metadata": {},
   "outputs": [
    {
     "ename": "SyntaxError",
     "evalue": "invalid syntax (2833965978.py, line 1)",
     "output_type": "error",
     "traceback": [
      "\u001b[1;36m  Cell \u001b[1;32mIn [8], line 1\u001b[1;36m\u001b[0m\n\u001b[1;33m    txt = \"We are the so-called \"Vikings\" from the north.\"\u001b[0m\n\u001b[1;37m                                 ^\u001b[0m\n\u001b[1;31mSyntaxError\u001b[0m\u001b[1;31m:\u001b[0m invalid syntax\n"
     ]
    }
   ],
   "source": [
    "txt = \"We are the so-called \"Vikings\" from the north.\" \n",
    "\n",
    "#this will give error"
   ]
  },
  {
   "cell_type": "code",
   "execution_count": null,
   "metadata": {},
   "outputs": [],
   "source": [
    "txt = \"We are the so-called \\\"Vikings\\\" from the north.\" \n",
    "\n",
    "#this will not"
   ]
  },
  {
   "cell_type": "markdown",
   "metadata": {},
   "source": [
    "<h3><b>Boolean DataType</b></h3>\n",
    "Many times during programming one requires to know if an expression returns <i>True</i> or <i>False</i>"
   ]
  },
  {
   "cell_type": "markdown",
   "metadata": {},
   "source": [
    "Comparison Expressions always return a boolean value:"
   ]
  },
  {
   "cell_type": "code",
   "execution_count": null,
   "metadata": {},
   "outputs": [],
   "source": [
    "print(10>9, 10==9, 10<9)"
   ]
  },
  {
   "cell_type": "markdown",
   "metadata": {},
   "source": [
    "<h3>The <a href = \"https://www.w3schools.com/python/ref_func_bool.asp\">bool()</a> Method</h3>\n",
    "It returns <i>True</i> or <i>False</i> for any arguement passed :  "
   ]
  },
  {
   "cell_type": "code",
   "execution_count": null,
   "metadata": {},
   "outputs": [],
   "source": [
    "print(bool(15), bool('yes'), bool([]))"
   ]
  },
  {
   "cell_type": "markdown",
   "metadata": {},
   "source": [
    "<h3> Note : </h3>\n",
    "<b>Most Values are <i>True</i> :</b> \n",
    "<ul>\n",
    "<li>All numbers except 0 return <i>True</i></li>\n",
    "<li>All string except an empty string return <i>True</i></li>\n",
    "<li>Any list, set, tuple, dictionary return <i>True</i> except empty ones</li>\n",
    "</ul>\n",
    "<b>Some Values are <i>False</i> :</b><br>\n",
    "Number 0, empty string \"\" or '', and empty list [], tuple(), set and dictionary {} return <i>False</i> when passed through the <i>bool()</i> function. \n",
    "\n"
   ]
  },
  {
   "cell_type": "markdown",
   "metadata": {},
   "source": [
    "<h3><b>Operators in Python</b></h3>\n",
    "Various operators are used to perform operations on variables and values. Python has 7 types of operators : \n",
    "<ul><li>Arithematic Operators</li>\n",
    "<li>Assignment Operators</li>\n",
    "<li>Comparison Operators</li>\n",
    "<li>Logical Operators</li>\n",
    "<li>Identity Operators</li>\n",
    "<li>Membership Operators</li>\n",
    "<li>Bitwise Operators</li>"
   ]
  },
  {
   "cell_type": "markdown",
   "metadata": {},
   "source": [
    "<h3>Arithematic Operators</h3>\n",
    "Used to perform mathematical operation on numeric variables and values :"
   ]
  },
  {
   "cell_type": "code",
   "execution_count": null,
   "metadata": {},
   "outputs": [],
   "source": [
    "num1 = 27           #int\n",
    "num2 = 13.0         #float\n",
    "print(num1 + num2)      #'+' is addition operator\n",
    "print(num1 - num2)      #'-' is subtraction operator\n",
    "print(num1 * num2)      #'*' is multiplication operator\n",
    "print(num1 / num2)      #'/' is division operator\n",
    "print(num1 % num2)      #'%' is modulus operator, returns remainder when num1 is divided by num2\n",
    "print(num1 ** num2)     #'*' is exponential operator, returns num1 raised to the power num2\n",
    "print(num1 // num2)     #'//' is floor division operator, returns integer part when num1 is divided by num2 \n"
   ]
  },
  {
   "cell_type": "markdown",
   "metadata": {},
   "source": [
    "<h3>Assignment Operators</h3>\n",
    "Used to assign values to a variable, and yes there are more than one :/"
   ]
  },
  {
   "cell_type": "code",
   "execution_count": null,
   "metadata": {},
   "outputs": [],
   "source": [
    "var1 = 5    #assigns integer '5' to 'var1'\n",
    "print(var1)\n",
    "var1 += 3   #read it as var1(new value) = var1(old value) + 3, that is, now var1 = 8 (5+3)\n",
    "print(var1)\n",
    "var1 -= 3   #read it as var1(new value) = var1(old value) - 3, that is, now var1 = 5 (8-3)\n",
    "print(var1)\n",
    "var1 *= 3   #read it as var1(new value) = var1(old value) * 3, that is, now var1 = 15 (5*3)\n",
    "print(var1)\n",
    "var1 /= 3   #read it as var1(new value) = var1(old value) / 3, that is, now var1 = 5 (15/3)\n",
    "print(var1)\n",
    "var1 %= 3   #read it as var1(new value) = var1(old value) % 3, that is, now var1 = 2 (5%3)\n",
    "print(var1)\n",
    "var1 //= 3  #read it as var1(new value) = var1(old value) // 3, that is, now var1 = 0 (2//3)\n",
    "print(var1)\n",
    "var1 = 5  \n",
    "print(var1)\n",
    "var1 **= 3  #read it as var1(new value) = var1(old value) ** 3, that is, now var1 = 125 (5**3)\n",
    "print(var1)\n",
    "var1 &= 3   #read it as var1(new value) = var1(old value) & 3, '&' is Bitwise And operator which is discussed in the later blocks\n",
    "print(var1)\n",
    "var1 |= 3   #read it as var1(new value) = var1(old value) | 3, '|' is Bitwise Or operator which is discussed in the later blocks\n",
    "print(var1)\n",
    "var1 ^= 3   #'^' is Bitwise XOR operator \n",
    "print(var1)\n",
    "var1 >>= 3  #'>>' is Bitwise Signed Right shift operator\n",
    "print(var1)\n",
    "var1 <<= 3  #'<<' is Bitwise Left Shift Operator  \n",
    "print(var1)"
   ]
  },
  {
   "cell_type": "markdown",
   "metadata": {},
   "source": [
    "<h3>Comparison Operator</h3>\n",
    "Name is pretty self explanatory, returns boolean output :"
   ]
  },
  {
   "cell_type": "code",
   "execution_count": 9,
   "metadata": {},
   "outputs": [
    {
     "name": "stdout",
     "output_type": "stream",
     "text": [
      "False\n",
      "True\n",
      "False\n",
      "True\n",
      "False\n",
      "True\n"
     ]
    }
   ],
   "source": [
    "print(1==2)     #Check equality\n",
    "print(1!=2)     #Non - equality\n",
    "print(1>2)      #Greater than\n",
    "print(1<2)      #Less than\n",
    "print(1>=2)     #Greater than or equals to\n",
    "print(1<=2)     #Less than or equals to"
   ]
  },
  {
   "cell_type": "markdown",
   "metadata": {},
   "source": [
    "<h3>Logical Operators</h3> \n",
    "Used to combine conditional statements and return a Boolean Value:"
   ]
  },
  {
   "cell_type": "code",
   "execution_count": 10,
   "metadata": {},
   "outputs": [
    {
     "name": "stdout",
     "output_type": "stream",
     "text": [
      "False\n",
      "True\n",
      "True\n"
     ]
    }
   ],
   "source": [
    "print((1==1) and (1>2))     #'and' returns true if both statements are true\n",
    "print((1==1) or (1>2))      #'or' returns true if any one of the statements is true\n",
    "print(not(1>2))             #'not' returns the reverse Boolean output"
   ]
  },
  {
   "cell_type": "markdown",
   "metadata": {},
   "source": [
    "<h3>Identity and Membership Operators</h3>\n",
    "Identity operator is used to check wheather two objects are exactly the same, that is, both of them point to the same memory location. Membership operator is used to check wheather a sequence is present in an object. Both return Boolean output."
   ]
  },
  {
   "cell_type": "code",
   "execution_count": 13,
   "metadata": {},
   "outputs": [
    {
     "name": "stdout",
     "output_type": "stream",
     "text": [
      "True True\n",
      "True\n"
     ]
    }
   ],
   "source": [
    "a = 1\n",
    "b = 1\n",
    "print(a==b, a is b)     #'is' returns true if both a and b points to the same memory block, 'is not' samajh jaao!!\n",
    "\n",
    "str = 'ark'\n",
    "name = 'clark'\n",
    "print(str in name)      #'in' returns true if str is somewhere inside of name, 'not in' samajh jaao !!!                 "
   ]
  },
  {
   "cell_type": "markdown",
   "metadata": {},
   "source": [
    "<h3>Bitwise Operators</h3>\n",
    "They are used to compare binary numbers. (or binary versions of the numbers)"
   ]
  },
  {
   "cell_type": "code",
   "execution_count": 19,
   "metadata": {},
   "outputs": [
    {
     "name": "stdout",
     "output_type": "stream",
     "text": [
      "40\n",
      "381\n",
      "341\n",
      "-301\n",
      "484\n",
      "0\n"
     ]
    }
   ],
   "source": [
    "a = 121\n",
    "b = 300\n",
    "\n",
    "print(a & b)        #Returns 1 if both the bits are 1\n",
    "print(a | b)        #Returns 1 if any one of the bits is 1\n",
    "print(a ^ b)        #XOR returns 1 if only one of the two bits is 1\n",
    "print(~ b)        #Inverts all bits\n",
    "print(a << 2)       #Shift left by pushing zeros in from the right and let the leftmost bits fall off\n",
    "print(a >> b)       #Shift right by pushing copies of the leftmost bit in from the left, and let the rightmost bits fall off  "
   ]
  },
  {
   "cell_type": "markdown",
   "metadata": {},
   "source": [
    "<h3>Operator Precedence</h3>\n",
    "It is the order in which operations are performed. you can check the exect order <a href = \"https://www.geeksforgeeks.org/precedence-and-associativity-of-operators-in-python/\">here</a>."
   ]
  },
  {
   "cell_type": "markdown",
   "metadata": {},
   "source": [
    "In the next lesson we will dive into the world of lists, probably the most important topic of any programming language. Till then\n",
    "#Upar Dekhte Raho"
   ]
  },
  {
   "cell_type": "markdown",
   "metadata": {},
   "source": []
  }
 ],
 "metadata": {
  "kernelspec": {
   "display_name": "Python 3",
   "language": "python",
   "name": "python3"
  },
  "language_info": {
   "codemirror_mode": {
    "name": "ipython",
    "version": 3
   },
   "file_extension": ".py",
   "mimetype": "text/x-python",
   "name": "python",
   "nbconvert_exporter": "python",
   "pygments_lexer": "ipython3",
   "version": "3.10.8"
  }
 },
 "nbformat": 4,
 "nbformat_minor": 2
}
