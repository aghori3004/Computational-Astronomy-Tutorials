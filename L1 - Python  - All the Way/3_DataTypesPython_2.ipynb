{
 "cells": [
  {
   "cell_type": "markdown",
   "metadata": {},
   "source": [
    "<h2><b>L1.3 Data Types - Lists</b></h2>\n",
    "<h3><i>Author - Divyansh Gangwar</i></h3>\n",
    "\n",
    "Now we dive into the most important part of any programming language. Those of you, who have a kink for competitive coding, must now really pay attention because list (or 'arrays' if you get too fancy!) is the absolute basis of the so feared D-S-A !!! So pay attention from now on. "
   ]
  },
  {
   "cell_type": "markdown",
   "metadata": {},
   "source": [
    "<h3><b>Python Collections</b></h3>\n",
    "There are 4 collection Data Types in Python : \n",
    "<ul><li><b>Lists :</b> is a collection which is ordered and changeable. Allows duplicate entries.</li>\n",
    "<li><b>Tuples :</b> is a collection which is ordered and unchangeable. Allows dupilcate entries.</li>\n",
    "<li><b>Set :</b> is a collection which is unordered, unchangeable, and unindexed. No duplicate entries.</li>\n",
    "<li><b>Dictionary :</b> is a collection which is ordered and changeable. No duplicate members. "
   ]
  },
  {
   "cell_type": "markdown",
   "metadata": {},
   "source": [
    "<h3><b>Lists</b></h3>\n",
    "Lists are used to store multiple items in a single variable. It is initiated using square brackets '[ ]' : "
   ]
  },
  {
   "cell_type": "code",
   "execution_count": 2,
   "metadata": {},
   "outputs": [
    {
     "name": "stdout",
     "output_type": "stream",
     "text": [
      "['seds', 'aeoulus', 'ad astra']\n"
     ]
    }
   ],
   "source": [
    "clubs = ['seds', 'aeoulus', 'ad astra']\n",
    "print (clubs)"
   ]
  },
  {
   "cell_type": "markdown",
   "metadata": {},
   "source": [
    "<h3>List Indexing</h3>\n",
    "List items are ordered and indexed in a particular order.\n"
   ]
  }
 ],
 "metadata": {
  "kernelspec": {
   "display_name": "Python 3",
   "language": "python",
   "name": "python3"
  },
  "language_info": {
   "codemirror_mode": {
    "name": "ipython",
    "version": 3
   },
   "file_extension": ".py",
   "mimetype": "text/x-python",
   "name": "python",
   "nbconvert_exporter": "python",
   "pygments_lexer": "ipython3",
   "version": "3.10.8"
  }
 },
 "nbformat": 4,
 "nbformat_minor": 2
}
